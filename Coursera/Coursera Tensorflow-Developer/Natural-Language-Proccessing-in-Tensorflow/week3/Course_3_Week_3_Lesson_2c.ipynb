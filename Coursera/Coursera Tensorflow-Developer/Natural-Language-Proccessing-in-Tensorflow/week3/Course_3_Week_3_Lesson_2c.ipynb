{
  "nbformat": 4,
  "nbformat_minor": 0,
  "metadata": {
    "accelerator": "GPU",
    "colab": {
      "name": "Course 3 - Week 3 - Lesson 2c.ipynb",
      "provenance": [],
      "collapsed_sections": [],
      "toc_visible": true
    },
    "kernelspec": {
      "display_name": "Python 3",
      "language": "python",
      "name": "python3"
    },
    "language_info": {
      "codemirror_mode": {
        "name": "ipython",
        "version": 3
      },
      "file_extension": ".py",
      "mimetype": "text/x-python",
      "name": "python",
      "nbconvert_exporter": "python",
      "pygments_lexer": "ipython3",
      "version": "3.7.6"
    }
  },
  "cells": [
    {
      "cell_type": "code",
      "metadata": {
        "id": "zX4Kg8DUTKWO"
      },
      "source": [
        "#@title Licensed under the Apache License, Version 2.0 (the \"License\");\n",
        "# you may not use this file except in compliance with the License.\n",
        "# You may obtain a copy of the License at\n",
        "#\n",
        "# https://www.apache.org/licenses/LICENSE-2.0\n",
        "#\n",
        "# Unless required by applicable law or agreed to in writing, software\n",
        "# distributed under the License is distributed on an \"AS IS\" BASIS,\n",
        "# WITHOUT WARRANTIES OR CONDITIONS OF ANY KIND, either express or implied.\n",
        "# See the License for the specific language governing permissions and\n",
        "# limitations under the License."
      ],
      "execution_count": null,
      "outputs": []
    },
    {
      "cell_type": "markdown",
      "metadata": {
        "id": "VB_Xc5ziZU80"
      },
      "source": [
        "<a href=\"https://colab.research.google.com/github/lmoroney/dlaicourse/blob/master/TensorFlow%20In%20Practice/Course%203%20-%20NLP/Course%203%20-%20Week%203%20-%20Lesson%202c.ipynb\" target=\"_parent\"><img src=\"https://colab.research.google.com/assets/colab-badge.svg\" alt=\"Open In Colab\"/></a>"
      ]
    },
    {
      "cell_type": "code",
      "metadata": {
        "id": "jGwXGIXvFhXW",
        "outputId": "e8153e89-23a9-4a3e-ca5d-711c0eb90983",
        "colab": {
          "base_uri": "https://localhost:8080/",
          "height": 1000
        }
      },
      "source": [
        "import numpy as np\n",
        "\n",
        "import json\n",
        "import tensorflow as tf\n",
        "\n",
        "from tensorflow.keras.preprocessing.text import Tokenizer\n",
        "from tensorflow.keras.preprocessing.sequence import pad_sequences\n",
        "\n",
        "!wget --no-check-certificate \\\n",
        "    https://storage.googleapis.com/laurencemoroney-blog.appspot.com/sarcasm.json \\\n",
        "    -O /tmp/sarcasm.json\n",
        "\n",
        "vocab_size = 1000\n",
        "embedding_dim = 16\n",
        "max_length = 120\n",
        "trunc_type='post'\n",
        "padding_type='post'\n",
        "oov_tok = \"<OOV>\"\n",
        "training_size = 20000\n",
        "\n",
        "\n",
        "with open(\"/tmp/sarcasm.json\", 'r') as f:\n",
        "    datastore = json.load(f)\n",
        "\n",
        "\n",
        "sentences = []\n",
        "labels = []\n",
        "urls = []\n",
        "for item in datastore:\n",
        "    sentences.append(item['headline'])\n",
        "    labels.append(item['is_sarcastic'])\n",
        "\n",
        "training_sentences = sentences[0:training_size]\n",
        "testing_sentences = sentences[training_size:]\n",
        "training_labels = labels[0:training_size]\n",
        "testing_labels = labels[training_size:]\n",
        "\n",
        "tokenizer = Tokenizer(num_words=vocab_size, oov_token=oov_tok)\n",
        "tokenizer.fit_on_texts(training_sentences)\n",
        "\n",
        "word_index = tokenizer.word_index\n",
        "\n",
        "training_sequences = tokenizer.texts_to_sequences(training_sentences)\n",
        "training_padded = pad_sequences(training_sequences, maxlen=max_length, padding=padding_type, truncating=trunc_type)\n",
        "\n",
        "testing_sequences = tokenizer.texts_to_sequences(testing_sentences)\n",
        "testing_padded = pad_sequences(testing_sequences, maxlen=max_length, padding=padding_type, truncating=trunc_type)\n",
        "\n",
        "model = tf.keras.Sequential([\n",
        "    tf.keras.layers.Embedding(vocab_size, embedding_dim, input_length=max_length),\n",
        "    tf.keras.layers.Conv1D(128, 5, activation='relu'),\n",
        "    tf.keras.layers.GlobalMaxPooling1D(),\n",
        "    tf.keras.layers.Dense(24, activation='relu'),\n",
        "    tf.keras.layers.Dense(1, activation='sigmoid')\n",
        "])\n",
        "model.compile(loss='binary_crossentropy',optimizer='adam',metrics=['accuracy'])\n",
        "model.summary()\n",
        "\n",
        "num_epochs = 50\n",
        "\n",
        "training_padded = np.array(training_padded)\n",
        "training_labels = np.array(training_labels)\n",
        "testing_padded = np.array(testing_padded)\n",
        "testing_labels = np.array(testing_labels)\n",
        "\n",
        "history = model.fit(training_padded, training_labels, epochs=num_epochs, validation_data=(testing_padded, testing_labels), verbose=1)\n"
      ],
      "execution_count": 1,
      "outputs": [
        {
          "output_type": "stream",
          "text": [
            "--2020-10-21 09:21:16--  https://storage.googleapis.com/laurencemoroney-blog.appspot.com/sarcasm.json\n",
            "Resolving storage.googleapis.com (storage.googleapis.com)... 74.125.140.128, 173.194.76.128, 66.102.1.128, ...\n",
            "Connecting to storage.googleapis.com (storage.googleapis.com)|74.125.140.128|:443... connected.\n",
            "HTTP request sent, awaiting response... 200 OK\n",
            "Length: 5643545 (5.4M) [application/json]\n",
            "Saving to: ‘/tmp/sarcasm.json’\n",
            "\n",
            "/tmp/sarcasm.json   100%[===================>]   5.38M  --.-KB/s    in 0.05s   \n",
            "\n",
            "2020-10-21 09:21:16 (104 MB/s) - ‘/tmp/sarcasm.json’ saved [5643545/5643545]\n",
            "\n",
            "Model: \"sequential\"\n",
            "_________________________________________________________________\n",
            "Layer (type)                 Output Shape              Param #   \n",
            "=================================================================\n",
            "embedding (Embedding)        (None, 120, 16)           16000     \n",
            "_________________________________________________________________\n",
            "conv1d (Conv1D)              (None, 116, 128)          10368     \n",
            "_________________________________________________________________\n",
            "global_max_pooling1d (Global (None, 128)               0         \n",
            "_________________________________________________________________\n",
            "dense (Dense)                (None, 24)                3096      \n",
            "_________________________________________________________________\n",
            "dense_1 (Dense)              (None, 1)                 25        \n",
            "=================================================================\n",
            "Total params: 29,489\n",
            "Trainable params: 29,489\n",
            "Non-trainable params: 0\n",
            "_________________________________________________________________\n",
            "Epoch 1/50\n",
            "625/625 [==============================] - 4s 6ms/step - loss: 0.4812 - accuracy: 0.7522 - val_loss: 0.4072 - val_accuracy: 0.8176\n",
            "Epoch 2/50\n",
            "625/625 [==============================] - 4s 6ms/step - loss: 0.3604 - accuracy: 0.8364 - val_loss: 0.3874 - val_accuracy: 0.8255\n",
            "Epoch 3/50\n",
            "625/625 [==============================] - 4s 6ms/step - loss: 0.3200 - accuracy: 0.8591 - val_loss: 0.3923 - val_accuracy: 0.8246\n",
            "Epoch 4/50\n",
            "625/625 [==============================] - 4s 6ms/step - loss: 0.2880 - accuracy: 0.8725 - val_loss: 0.4000 - val_accuracy: 0.8211\n",
            "Epoch 5/50\n",
            "625/625 [==============================] - 4s 6ms/step - loss: 0.2552 - accuracy: 0.8936 - val_loss: 0.4234 - val_accuracy: 0.8201\n",
            "Epoch 6/50\n",
            "625/625 [==============================] - 4s 6ms/step - loss: 0.2225 - accuracy: 0.9105 - val_loss: 0.4596 - val_accuracy: 0.8177\n",
            "Epoch 7/50\n",
            "625/625 [==============================] - 4s 6ms/step - loss: 0.1964 - accuracy: 0.9217 - val_loss: 0.4885 - val_accuracy: 0.8110\n",
            "Epoch 8/50\n",
            "625/625 [==============================] - 4s 6ms/step - loss: 0.1645 - accuracy: 0.9358 - val_loss: 0.5512 - val_accuracy: 0.8059\n",
            "Epoch 9/50\n",
            "625/625 [==============================] - 4s 6ms/step - loss: 0.1384 - accuracy: 0.9481 - val_loss: 0.6031 - val_accuracy: 0.8046\n",
            "Epoch 10/50\n",
            "625/625 [==============================] - 4s 6ms/step - loss: 0.1154 - accuracy: 0.9582 - val_loss: 0.6837 - val_accuracy: 0.7958\n",
            "Epoch 11/50\n",
            "625/625 [==============================] - 4s 6ms/step - loss: 0.0942 - accuracy: 0.9668 - val_loss: 0.7909 - val_accuracy: 0.8018\n",
            "Epoch 12/50\n",
            "625/625 [==============================] - 4s 6ms/step - loss: 0.0830 - accuracy: 0.9703 - val_loss: 0.8376 - val_accuracy: 0.8001\n",
            "Epoch 13/50\n",
            "625/625 [==============================] - 4s 6ms/step - loss: 0.0737 - accuracy: 0.9740 - val_loss: 0.9354 - val_accuracy: 0.7998\n",
            "Epoch 14/50\n",
            "625/625 [==============================] - 4s 6ms/step - loss: 0.0624 - accuracy: 0.9789 - val_loss: 1.0333 - val_accuracy: 0.7940\n",
            "Epoch 15/50\n",
            "625/625 [==============================] - 4s 6ms/step - loss: 0.0543 - accuracy: 0.9818 - val_loss: 1.0772 - val_accuracy: 0.7974\n",
            "Epoch 16/50\n",
            "625/625 [==============================] - 4s 6ms/step - loss: 0.0487 - accuracy: 0.9829 - val_loss: 1.1578 - val_accuracy: 0.7863\n",
            "Epoch 17/50\n",
            "625/625 [==============================] - 4s 6ms/step - loss: 0.0502 - accuracy: 0.9822 - val_loss: 1.2095 - val_accuracy: 0.7867\n",
            "Epoch 18/50\n",
            "625/625 [==============================] - 4s 6ms/step - loss: 0.0482 - accuracy: 0.9820 - val_loss: 1.2524 - val_accuracy: 0.7918\n",
            "Epoch 19/50\n",
            "625/625 [==============================] - 4s 6ms/step - loss: 0.0420 - accuracy: 0.9842 - val_loss: 1.3454 - val_accuracy: 0.7928\n",
            "Epoch 20/50\n",
            "625/625 [==============================] - 4s 6ms/step - loss: 0.0362 - accuracy: 0.9870 - val_loss: 1.4793 - val_accuracy: 0.7906\n",
            "Epoch 21/50\n",
            "625/625 [==============================] - 4s 6ms/step - loss: 0.0341 - accuracy: 0.9874 - val_loss: 1.5072 - val_accuracy: 0.7901\n",
            "Epoch 22/50\n",
            "625/625 [==============================] - 4s 6ms/step - loss: 0.0352 - accuracy: 0.9869 - val_loss: 1.5879 - val_accuracy: 0.7833\n",
            "Epoch 23/50\n",
            "625/625 [==============================] - 4s 6ms/step - loss: 0.0357 - accuracy: 0.9859 - val_loss: 1.6180 - val_accuracy: 0.7900\n",
            "Epoch 24/50\n",
            "625/625 [==============================] - 4s 6ms/step - loss: 0.0323 - accuracy: 0.9871 - val_loss: 1.6417 - val_accuracy: 0.7834\n",
            "Epoch 25/50\n",
            "625/625 [==============================] - 4s 6ms/step - loss: 0.0323 - accuracy: 0.9876 - val_loss: 1.7413 - val_accuracy: 0.7822\n",
            "Epoch 26/50\n",
            "625/625 [==============================] - 4s 6ms/step - loss: 0.0277 - accuracy: 0.9894 - val_loss: 1.7405 - val_accuracy: 0.7769\n",
            "Epoch 27/50\n",
            "625/625 [==============================] - 4s 6ms/step - loss: 0.0345 - accuracy: 0.9867 - val_loss: 1.8132 - val_accuracy: 0.7858\n",
            "Epoch 28/50\n",
            "625/625 [==============================] - 4s 6ms/step - loss: 0.0289 - accuracy: 0.9884 - val_loss: 1.8003 - val_accuracy: 0.7885\n",
            "Epoch 29/50\n",
            "625/625 [==============================] - 4s 6ms/step - loss: 0.0275 - accuracy: 0.9890 - val_loss: 1.8144 - val_accuracy: 0.7897\n",
            "Epoch 30/50\n",
            "625/625 [==============================] - 4s 6ms/step - loss: 0.0270 - accuracy: 0.9898 - val_loss: 1.8337 - val_accuracy: 0.7869\n",
            "Epoch 31/50\n",
            "625/625 [==============================] - 4s 6ms/step - loss: 0.0234 - accuracy: 0.9903 - val_loss: 1.9826 - val_accuracy: 0.7791\n",
            "Epoch 32/50\n",
            "625/625 [==============================] - 4s 6ms/step - loss: 0.0219 - accuracy: 0.9913 - val_loss: 2.0604 - val_accuracy: 0.7848\n",
            "Epoch 33/50\n",
            "625/625 [==============================] - 4s 6ms/step - loss: 0.0311 - accuracy: 0.9873 - val_loss: 2.1800 - val_accuracy: 0.7795\n",
            "Epoch 34/50\n",
            "625/625 [==============================] - 4s 6ms/step - loss: 0.0310 - accuracy: 0.9879 - val_loss: 2.0314 - val_accuracy: 0.7781\n",
            "Epoch 35/50\n",
            "625/625 [==============================] - 4s 6ms/step - loss: 0.0288 - accuracy: 0.9883 - val_loss: 1.9297 - val_accuracy: 0.7903\n",
            "Epoch 36/50\n",
            "625/625 [==============================] - 4s 6ms/step - loss: 0.0253 - accuracy: 0.9890 - val_loss: 2.0845 - val_accuracy: 0.7836\n",
            "Epoch 37/50\n",
            "625/625 [==============================] - 4s 6ms/step - loss: 0.0191 - accuracy: 0.9923 - val_loss: 2.2429 - val_accuracy: 0.7860\n",
            "Epoch 38/50\n",
            "625/625 [==============================] - 4s 6ms/step - loss: 0.0191 - accuracy: 0.9923 - val_loss: 2.2508 - val_accuracy: 0.7874\n",
            "Epoch 39/50\n",
            "625/625 [==============================] - 4s 6ms/step - loss: 0.0194 - accuracy: 0.9924 - val_loss: 2.2531 - val_accuracy: 0.7810\n",
            "Epoch 40/50\n",
            "625/625 [==============================] - 4s 6ms/step - loss: 0.0317 - accuracy: 0.9880 - val_loss: 2.0957 - val_accuracy: 0.7869\n",
            "Epoch 41/50\n",
            "625/625 [==============================] - 4s 6ms/step - loss: 0.0289 - accuracy: 0.9880 - val_loss: 2.1831 - val_accuracy: 0.7834\n",
            "Epoch 42/50\n",
            "625/625 [==============================] - 4s 6ms/step - loss: 0.0213 - accuracy: 0.9907 - val_loss: 2.2731 - val_accuracy: 0.7816\n",
            "Epoch 43/50\n",
            "625/625 [==============================] - 4s 6ms/step - loss: 0.0218 - accuracy: 0.9908 - val_loss: 2.2954 - val_accuracy: 0.7854\n",
            "Epoch 44/50\n",
            "625/625 [==============================] - 4s 6ms/step - loss: 0.0214 - accuracy: 0.9910 - val_loss: 2.3342 - val_accuracy: 0.7839\n",
            "Epoch 45/50\n",
            "625/625 [==============================] - 4s 6ms/step - loss: 0.0217 - accuracy: 0.9908 - val_loss: 2.2956 - val_accuracy: 0.7822\n",
            "Epoch 46/50\n",
            "625/625 [==============================] - 4s 6ms/step - loss: 0.0255 - accuracy: 0.9895 - val_loss: 2.3436 - val_accuracy: 0.7870\n",
            "Epoch 47/50\n",
            "625/625 [==============================] - 4s 6ms/step - loss: 0.0280 - accuracy: 0.9890 - val_loss: 2.2464 - val_accuracy: 0.7788\n",
            "Epoch 48/50\n",
            "625/625 [==============================] - 4s 6ms/step - loss: 0.0193 - accuracy: 0.9916 - val_loss: 2.3314 - val_accuracy: 0.7874\n",
            "Epoch 49/50\n",
            "625/625 [==============================] - 4s 6ms/step - loss: 0.0168 - accuracy: 0.9924 - val_loss: 2.4727 - val_accuracy: 0.7869\n",
            "Epoch 50/50\n",
            "625/625 [==============================] - 4s 6ms/step - loss: 0.0215 - accuracy: 0.9908 - val_loss: 2.4237 - val_accuracy: 0.7769\n"
          ],
          "name": "stdout"
        }
      ]
    },
    {
      "cell_type": "code",
      "metadata": {
        "id": "g9DC6dmLF8DC",
        "outputId": "e5e59f4e-e39f-4b48-9815-c5f3ebda5593",
        "colab": {
          "base_uri": "https://localhost:8080/",
          "height": 542
        }
      },
      "source": [
        "import matplotlib.pyplot as plt\n",
        "\n",
        "\n",
        "def plot_graphs(history, string):\n",
        "  plt.plot(history.history[string])\n",
        "  plt.plot(history.history['val_'+string])\n",
        "  plt.xlabel(\"Epochs\")\n",
        "  plt.ylabel(string)\n",
        "  plt.legend([string, 'val_'+string])\n",
        "  plt.show()\n",
        "\n",
        "plot_graphs(history, 'accuracy')\n",
        "plot_graphs(history, 'loss')"
      ],
      "execution_count": 2,
      "outputs": [
        {
          "output_type": "display_data",
          "data": {
            "image/png": "[encoded data removed]",
            "text/plain": [
              "<Figure size 432x288 with 1 Axes>"
            ]
          },
          "metadata": {
            "tags": [],
            "needs_background": "light"
          }
        },
        {
          "output_type": "display_data",
          "data": {
            "image/png": "[encoded data removed]",
            "text/plain": [
              "<Figure size 432x288 with 1 Axes>"
            ]
          },
          "metadata": {
            "tags": [],
            "needs_background": "light"
          }
        }
      ]
    },
    {
      "cell_type": "code",
      "metadata": {
        "id": "7ZEZIUppGhdi"
      },
      "source": [
        "model.save(\"test.h5\")"
      ],
      "execution_count": 3,
      "outputs": []
    }
  ]
}