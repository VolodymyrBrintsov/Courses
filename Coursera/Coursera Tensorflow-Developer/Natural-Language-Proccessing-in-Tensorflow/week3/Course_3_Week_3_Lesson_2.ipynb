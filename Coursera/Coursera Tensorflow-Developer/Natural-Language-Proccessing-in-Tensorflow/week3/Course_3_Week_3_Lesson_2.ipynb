{
  "nbformat": 4,
  "nbformat_minor": 0,
  "metadata": {
    "accelerator": "GPU",
    "colab": {
      "name": "Course 3 - Week 3 - Lesson 2.ipynb",
      "provenance": [],
      "collapsed_sections": [],
      "toc_visible": true
    },
    "kernelspec": {
      "display_name": "Python 3",
      "language": "python",
      "name": "python3"
    },
    "language_info": {
      "codemirror_mode": {
        "name": "ipython",
        "version": 3
      },
      "file_extension": ".py",
      "mimetype": "text/x-python",
      "name": "python",
      "nbconvert_exporter": "python",
      "pygments_lexer": "ipython3",
      "version": "3.7.6"
    }
  },
  "cells": [
    {
      "cell_type": "code",
      "metadata": {
        "id": "zX4Kg8DUTKWO"
      },
      "source": [
        "#@title Licensed under the Apache License, Version 2.0 (the \"License\");\n",
        "# you may not use this file except in compliance with the License.\n",
        "# You may obtain a copy of the License at\n",
        "#\n",
        "# https://www.apache.org/licenses/LICENSE-2.0\n",
        "#\n",
        "# Unless required by applicable law or agreed to in writing, software\n",
        "# distributed under the License is distributed on an \"AS IS\" BASIS,\n",
        "# WITHOUT WARRANTIES OR CONDITIONS OF ANY KIND, either express or implied.\n",
        "# See the License for the specific language governing permissions and\n",
        "# limitations under the License."
      ],
      "execution_count": null,
      "outputs": []
    },
    {
      "cell_type": "markdown",
      "metadata": {
        "id": "CdOuNkUfZNsS"
      },
      "source": [
        "<a href=\"https://colab.research.google.com/github/lmoroney/dlaicourse/blob/master/TensorFlow%20In%20Practice/Course%203%20-%20NLP/Course%203%20-%20Week%203%20-%20Lesson%202.ipynb\" target=\"_parent\"><img src=\"https://colab.research.google.com/assets/colab-badge.svg\" alt=\"Open In Colab\"/></a>"
      ]
    },
    {
      "cell_type": "code",
      "metadata": {
        "id": "jGwXGIXvFhXW",
        "outputId": "cafcf855-32d8-4674-b330-21785fa626c7",
        "colab": {
          "base_uri": "https://localhost:8080/",
          "height": 1000
        }
      },
      "source": [
        "import numpy as np\n",
        "\n",
        "import json\n",
        "import tensorflow as tf\n",
        "\n",
        "from tensorflow.keras.preprocessing.text import Tokenizer\n",
        "from tensorflow.keras.preprocessing.sequence import pad_sequences\n",
        "\n",
        "!wget --no-check-certificate \\\n",
        "    https://storage.googleapis.com/laurencemoroney-blog.appspot.com/sarcasm.json \\\n",
        "    -O /tmp/sarcasm.json\n",
        "\n",
        "vocab_size = 1000\n",
        "embedding_dim = 16\n",
        "max_length = 120\n",
        "trunc_type='post'\n",
        "padding_type='post'\n",
        "oov_tok = \"<OOV>\"\n",
        "training_size = 20000\n",
        "\n",
        "\n",
        "with open(\"/tmp/sarcasm.json\", 'r') as f:\n",
        "    datastore = json.load(f)\n",
        "\n",
        "\n",
        "sentences = []\n",
        "labels = []\n",
        "urls = []\n",
        "for item in datastore:\n",
        "    sentences.append(item['headline'])\n",
        "    labels.append(item['is_sarcastic'])\n",
        "\n",
        "training_sentences = sentences[0:training_size]\n",
        "testing_sentences = sentences[training_size:]\n",
        "training_labels = labels[0:training_size]\n",
        "testing_labels = labels[training_size:]\n",
        "\n",
        "tokenizer = Tokenizer(num_words=vocab_size, oov_token=oov_tok)\n",
        "tokenizer.fit_on_texts(training_sentences)\n",
        "\n",
        "word_index = tokenizer.word_index\n",
        "\n",
        "training_sequences = tokenizer.texts_to_sequences(training_sentences)\n",
        "training_padded = pad_sequences(training_sequences, maxlen=max_length, padding=padding_type, truncating=trunc_type)\n",
        "\n",
        "testing_sequences = tokenizer.texts_to_sequences(testing_sentences)\n",
        "testing_padded = pad_sequences(testing_sequences, maxlen=max_length, padding=padding_type, truncating=trunc_type)\n",
        "\n",
        "model = tf.keras.Sequential([\n",
        "    tf.keras.layers.Embedding(vocab_size, embedding_dim, input_length=max_length),\n",
        "    tf.keras.layers.Bidirectional(tf.keras.layers.LSTM(32)),\n",
        "    tf.keras.layers.Dense(24, activation='relu'),\n",
        "    tf.keras.layers.Dense(1, activation='sigmoid')\n",
        "])\n",
        "model.compile(loss='binary_crossentropy',optimizer='adam',metrics=['accuracy'])\n",
        "model.summary()\n",
        "\n",
        "num_epochs = 50\n",
        "training_padded = np.array(training_padded)\n",
        "training_labels = np.array(training_labels)\n",
        "testing_padded = np.array(testing_padded)\n",
        "testing_labels = np.array(testing_labels)\n",
        "history = model.fit(training_padded, training_labels, epochs=num_epochs, validation_data=(testing_padded, testing_labels), verbose=1)\n"
      ],
      "execution_count": 1,
      "outputs": [
        {
          "output_type": "stream",
          "text": [
            "--2020-10-21 09:21:03--  https://storage.googleapis.com/laurencemoroney-blog.appspot.com/sarcasm.json\n",
            "Resolving storage.googleapis.com (storage.googleapis.com)... 108.177.97.128, 108.177.125.128, 74.125.204.128, ...\n",
            "Connecting to storage.googleapis.com (storage.googleapis.com)|108.177.97.128|:443... connected.\n",
            "HTTP request sent, awaiting response... 200 OK\n",
            "Length: 5643545 (5.4M) [application/json]\n",
            "Saving to: ‘/tmp/sarcasm.json’\n",
            "\n",
            "/tmp/sarcasm.json   100%[===================>]   5.38M  --.-KB/s    in 0.08s   \n",
            "\n",
            "2020-10-21 09:21:03 (64.3 MB/s) - ‘/tmp/sarcasm.json’ saved [5643545/5643545]\n",
            "\n",
            "Model: \"sequential\"\n",
            "_________________________________________________________________\n",
            "Layer (type)                 Output Shape              Param #   \n",
            "=================================================================\n",
            "embedding (Embedding)        (None, 120, 16)           16000     \n",
            "_________________________________________________________________\n",
            "bidirectional (Bidirectional (None, 64)                12544     \n",
            "_________________________________________________________________\n",
            "dense (Dense)                (None, 24)                1560      \n",
            "_________________________________________________________________\n",
            "dense_1 (Dense)              (None, 1)                 25        \n",
            "=================================================================\n",
            "Total params: 30,129\n",
            "Trainable params: 30,129\n",
            "Non-trainable params: 0\n",
            "_________________________________________________________________\n",
            "Epoch 1/50\n",
            "625/625 [==============================] - 38s 60ms/step - loss: 0.4582 - accuracy: 0.7655 - val_loss: 0.3891 - val_accuracy: 0.8199\n",
            "Epoch 2/50\n",
            "625/625 [==============================] - 37s 59ms/step - loss: 0.3629 - accuracy: 0.8346 - val_loss: 0.3865 - val_accuracy: 0.8228\n",
            "Epoch 3/50\n",
            "625/625 [==============================] - 37s 59ms/step - loss: 0.3435 - accuracy: 0.8433 - val_loss: 0.3738 - val_accuracy: 0.8299\n",
            "Epoch 4/50\n",
            "625/625 [==============================] - 37s 59ms/step - loss: 0.3264 - accuracy: 0.8540 - val_loss: 0.3869 - val_accuracy: 0.8237\n",
            "Epoch 5/50\n",
            "625/625 [==============================] - 37s 59ms/step - loss: 0.3133 - accuracy: 0.8598 - val_loss: 0.3725 - val_accuracy: 0.8323\n",
            "Epoch 6/50\n",
            "625/625 [==============================] - 37s 59ms/step - loss: 0.2996 - accuracy: 0.8668 - val_loss: 0.3796 - val_accuracy: 0.8335\n",
            "Epoch 7/50\n",
            "625/625 [==============================] - 37s 59ms/step - loss: 0.2890 - accuracy: 0.8726 - val_loss: 0.3782 - val_accuracy: 0.8365\n",
            "Epoch 8/50\n",
            "625/625 [==============================] - 37s 59ms/step - loss: 0.2814 - accuracy: 0.8773 - val_loss: 0.3835 - val_accuracy: 0.8275\n",
            "Epoch 9/50\n",
            "625/625 [==============================] - 37s 59ms/step - loss: 0.2717 - accuracy: 0.8817 - val_loss: 0.3865 - val_accuracy: 0.8283\n",
            "Epoch 10/50\n",
            "625/625 [==============================] - 37s 59ms/step - loss: 0.2656 - accuracy: 0.8845 - val_loss: 0.4062 - val_accuracy: 0.8280\n",
            "Epoch 11/50\n",
            "625/625 [==============================] - 37s 59ms/step - loss: 0.2549 - accuracy: 0.8905 - val_loss: 0.4037 - val_accuracy: 0.8250\n",
            "Epoch 12/50\n",
            "625/625 [==============================] - 37s 59ms/step - loss: 0.2478 - accuracy: 0.8949 - val_loss: 0.4078 - val_accuracy: 0.8296\n",
            "Epoch 13/50\n",
            "625/625 [==============================] - 37s 59ms/step - loss: 0.2409 - accuracy: 0.8970 - val_loss: 0.4167 - val_accuracy: 0.8234\n",
            "Epoch 14/50\n",
            "625/625 [==============================] - 37s 59ms/step - loss: 0.2324 - accuracy: 0.9018 - val_loss: 0.4336 - val_accuracy: 0.8243\n",
            "Epoch 15/50\n",
            "625/625 [==============================] - 37s 59ms/step - loss: 0.2223 - accuracy: 0.9068 - val_loss: 0.4667 - val_accuracy: 0.8208\n",
            "Epoch 16/50\n",
            "625/625 [==============================] - 37s 59ms/step - loss: 0.2184 - accuracy: 0.9079 - val_loss: 0.4794 - val_accuracy: 0.8244\n",
            "Epoch 17/50\n",
            "625/625 [==============================] - 37s 59ms/step - loss: 0.2102 - accuracy: 0.9122 - val_loss: 0.4828 - val_accuracy: 0.8186\n",
            "Epoch 18/50\n",
            "625/625 [==============================] - 37s 59ms/step - loss: 0.2041 - accuracy: 0.9163 - val_loss: 0.4746 - val_accuracy: 0.8185\n",
            "Epoch 19/50\n",
            "625/625 [==============================] - 37s 59ms/step - loss: 0.1952 - accuracy: 0.9184 - val_loss: 0.5579 - val_accuracy: 0.8162\n",
            "Epoch 20/50\n",
            "625/625 [==============================] - 37s 59ms/step - loss: 0.1897 - accuracy: 0.9197 - val_loss: 0.5526 - val_accuracy: 0.8164\n",
            "Epoch 21/50\n",
            "625/625 [==============================] - 37s 60ms/step - loss: 0.1863 - accuracy: 0.9240 - val_loss: 0.5559 - val_accuracy: 0.8158\n",
            "Epoch 22/50\n",
            "625/625 [==============================] - 37s 59ms/step - loss: 0.1794 - accuracy: 0.9255 - val_loss: 0.6036 - val_accuracy: 0.8104\n",
            "Epoch 23/50\n",
            "625/625 [==============================] - 37s 59ms/step - loss: 0.1754 - accuracy: 0.9305 - val_loss: 0.6354 - val_accuracy: 0.8113\n",
            "Epoch 24/50\n",
            "625/625 [==============================] - 37s 59ms/step - loss: 0.1667 - accuracy: 0.9310 - val_loss: 0.6472 - val_accuracy: 0.8111\n",
            "Epoch 25/50\n",
            "625/625 [==============================] - 37s 59ms/step - loss: 0.1611 - accuracy: 0.9339 - val_loss: 0.6953 - val_accuracy: 0.8094\n",
            "Epoch 26/50\n",
            "625/625 [==============================] - 37s 59ms/step - loss: 0.1564 - accuracy: 0.9369 - val_loss: 0.6832 - val_accuracy: 0.8137\n",
            "Epoch 27/50\n",
            "625/625 [==============================] - 37s 59ms/step - loss: 0.1554 - accuracy: 0.9370 - val_loss: 0.6768 - val_accuracy: 0.8091\n",
            "Epoch 28/50\n",
            "625/625 [==============================] - 37s 59ms/step - loss: 0.1443 - accuracy: 0.9416 - val_loss: 0.7635 - val_accuracy: 0.8055\n",
            "Epoch 29/50\n",
            "625/625 [==============================] - 37s 60ms/step - loss: 0.1384 - accuracy: 0.9439 - val_loss: 0.8093 - val_accuracy: 0.8043\n",
            "Epoch 30/50\n",
            "625/625 [==============================] - 37s 60ms/step - loss: 0.1345 - accuracy: 0.9443 - val_loss: 0.8880 - val_accuracy: 0.8031\n",
            "Epoch 31/50\n",
            "625/625 [==============================] - 37s 59ms/step - loss: 0.1301 - accuracy: 0.9457 - val_loss: 0.8888 - val_accuracy: 0.7983\n",
            "Epoch 32/50\n",
            "625/625 [==============================] - 37s 59ms/step - loss: 0.1236 - accuracy: 0.9495 - val_loss: 0.9232 - val_accuracy: 0.8018\n",
            "Epoch 33/50\n",
            "625/625 [==============================] - 37s 59ms/step - loss: 0.1174 - accuracy: 0.9514 - val_loss: 0.9137 - val_accuracy: 0.8016\n",
            "Epoch 34/50\n",
            "625/625 [==============================] - 37s 60ms/step - loss: 0.1139 - accuracy: 0.9513 - val_loss: 1.0871 - val_accuracy: 0.8007\n",
            "Epoch 35/50\n",
            "625/625 [==============================] - 37s 59ms/step - loss: 0.1087 - accuracy: 0.9531 - val_loss: 1.0742 - val_accuracy: 0.8000\n",
            "Epoch 36/50\n",
            "625/625 [==============================] - 37s 59ms/step - loss: 0.1009 - accuracy: 0.9571 - val_loss: 1.1978 - val_accuracy: 0.7946\n",
            "Epoch 37/50\n",
            "625/625 [==============================] - 37s 60ms/step - loss: 0.1012 - accuracy: 0.9566 - val_loss: 1.1478 - val_accuracy: 0.8000\n",
            "Epoch 38/50\n",
            "625/625 [==============================] - 37s 60ms/step - loss: 0.0992 - accuracy: 0.9572 - val_loss: 1.2569 - val_accuracy: 0.7964\n",
            "Epoch 39/50\n",
            "625/625 [==============================] - 37s 59ms/step - loss: 0.0880 - accuracy: 0.9623 - val_loss: 1.3385 - val_accuracy: 0.7967\n",
            "Epoch 40/50\n",
            "625/625 [==============================] - 37s 59ms/step - loss: 0.0868 - accuracy: 0.9610 - val_loss: 1.3754 - val_accuracy: 0.7958\n",
            "Epoch 41/50\n",
            "625/625 [==============================] - 37s 60ms/step - loss: 0.0904 - accuracy: 0.9603 - val_loss: 1.3627 - val_accuracy: 0.7985\n",
            "Epoch 42/50\n",
            "625/625 [==============================] - 37s 60ms/step - loss: 0.0801 - accuracy: 0.9643 - val_loss: 1.4900 - val_accuracy: 0.7974\n",
            "Epoch 43/50\n",
            "625/625 [==============================] - 37s 59ms/step - loss: 0.0804 - accuracy: 0.9637 - val_loss: 1.3960 - val_accuracy: 0.7927\n",
            "Epoch 44/50\n",
            "625/625 [==============================] - 37s 59ms/step - loss: 0.0771 - accuracy: 0.9640 - val_loss: 1.4440 - val_accuracy: 0.7970\n",
            "Epoch 45/50\n",
            "625/625 [==============================] - 37s 59ms/step - loss: 0.0722 - accuracy: 0.9667 - val_loss: 1.6336 - val_accuracy: 0.7940\n",
            "Epoch 46/50\n",
            "625/625 [==============================] - 37s 60ms/step - loss: 0.0715 - accuracy: 0.9663 - val_loss: 1.5434 - val_accuracy: 0.7961\n",
            "Epoch 47/50\n",
            "625/625 [==============================] - 37s 59ms/step - loss: 0.0702 - accuracy: 0.9676 - val_loss: 1.5885 - val_accuracy: 0.7976\n",
            "Epoch 48/50\n",
            "625/625 [==============================] - 37s 59ms/step - loss: 0.0661 - accuracy: 0.9683 - val_loss: 1.7701 - val_accuracy: 0.7946\n",
            "Epoch 49/50\n",
            "625/625 [==============================] - 37s 59ms/step - loss: 0.0692 - accuracy: 0.9675 - val_loss: 1.7057 - val_accuracy: 0.7985\n",
            "Epoch 50/50\n",
            "625/625 [==============================] - 37s 60ms/step - loss: 0.0666 - accuracy: 0.9683 - val_loss: 1.7722 - val_accuracy: 0.7979\n"
          ],
          "name": "stdout"
        }
      ]
    },
    {
      "cell_type": "code",
      "metadata": {
        "id": "g9DC6dmLF8DC",
        "outputId": "7f4e42c5-baf0-4e9e-eb2c-615cd416c91e",
        "colab": {
          "base_uri": "https://localhost:8080/",
          "height": 542
        }
      },
      "source": [
        "import matplotlib.pyplot as plt\n",
        "\n",
        "\n",
        "def plot_graphs(history, string):\n",
        "  plt.plot(history.history[string])\n",
        "  plt.plot(history.history['val_'+string])\n",
        "  plt.xlabel(\"Epochs\")\n",
        "  plt.ylabel(string)\n",
        "  plt.legend([string, 'val_'+string])\n",
        "  plt.show()\n",
        "\n",
        "plot_graphs(history, 'accuracy')\n",
        "plot_graphs(history, 'loss')"
      ],
      "execution_count": 2,
      "outputs": [
        {
          "output_type": "display_data",
          "data": {
            "image/png": "[encoded data removed]",
            "text/plain": [
              "<Figure size 432x288 with 1 Axes>"
            ]
          },
          "metadata": {
            "tags": [],
            "needs_background": "light"
          }
        },
        {
          "output_type": "display_data",
          "data": {
            "image/png": "[encoded data removed]",
            "text/plain": [
              "<Figure size 432x288 with 1 Axes>"
            ]
          },
          "metadata": {
            "tags": [],
            "needs_background": "light"
          }
        }
      ]
    },
    {
      "cell_type": "code",
      "metadata": {
        "id": "7ZEZIUppGhdi"
      },
      "source": [
        "model.save(\"test.h5\")"
      ],
      "execution_count": 3,
      "outputs": []
    }
  ]
}