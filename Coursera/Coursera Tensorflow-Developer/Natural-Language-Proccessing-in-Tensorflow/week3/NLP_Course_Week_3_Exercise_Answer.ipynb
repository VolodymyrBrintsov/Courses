{
  "nbformat": 4,
  "nbformat_minor": 0,
  "metadata": {
    "accelerator": "GPU",
    "colab": {
      "name": "NLP Course - Week 3 Exercise Answer.ipynb",
      "provenance": [],
      "toc_visible": true
    },
    "kernelspec": {
      "display_name": "Python 3",
      "language": "python",
      "name": "python3"
    },
    "language_info": {
      "codemirror_mode": {
        "name": "ipython",
        "version": 3
      },
      "file_extension": ".py",
      "mimetype": "text/x-python",
      "name": "python",
      "nbconvert_exporter": "python",
      "pygments_lexer": "ipython3",
      "version": "3.7.6"
    }
  },
  "cells": [
    {
      "cell_type": "code",
      "metadata": {
        "id": "zX4Kg8DUTKWO"
      },
      "source": [
        "#@title Licensed under the Apache License, Version 2.0 (the \"License\");\n",
        "# you may not use this file except in compliance with the License.\n",
        "# You may obtain a copy of the License at\n",
        "#\n",
        "# https://www.apache.org/licenses/LICENSE-2.0\n",
        "#\n",
        "# Unless required by applicable law or agreed to in writing, software\n",
        "# distributed under the License is distributed on an \"AS IS\" BASIS,\n",
        "# WITHOUT WARRANTIES OR CONDITIONS OF ANY KIND, either express or implied.\n",
        "# See the License for the specific language governing permissions and\n",
        "# limitations under the License."
      ],
      "execution_count": 1,
      "outputs": []
    },
    {
      "cell_type": "markdown",
      "metadata": {
        "id": "osqKVeOJcZI4"
      },
      "source": [
        "<a href=\"https://colab.research.google.com/github/lmoroney/dlaicourse/blob/master/TensorFlow%20In%20Practice/Course%203%20-%20NLP/NLP%20Course%20-%20Week%203%20Exercise%20Answer.ipynb\" target=\"_parent\"><img src=\"https://colab.research.google.com/assets/colab-badge.svg\" alt=\"Open In Colab\"/></a>"
      ]
    },
    {
      "cell_type": "code",
      "metadata": {
        "id": "hmA6EzkQJ5jt"
      },
      "source": [
        "import json\n",
        "import tensorflow as tf\n",
        "import csv\n",
        "import random\n",
        "import numpy as np\n",
        "\n",
        "from tensorflow.keras.preprocessing.text import Tokenizer\n",
        "from tensorflow.keras.preprocessing.sequence import pad_sequences\n",
        "from tensorflow.keras.utils import to_categorical\n",
        "from tensorflow.keras import regularizers\n",
        "\n",
        "\n",
        "embedding_dim = 100\n",
        "max_length = 16\n",
        "trunc_type='post'\n",
        "padding_type='post'\n",
        "oov_tok = \"<OOV>\"\n",
        "training_size=160000\n",
        "test_portion=.1\n",
        "\n",
        "corpus = []\n"
      ],
      "execution_count": 2,
      "outputs": []
    },
    {
      "cell_type": "code",
      "metadata": {
        "id": "bM0l_dORKqE0",
        "outputId": "e087a062-b289-4791-e80f-2c1b52b67a27",
        "colab": {
          "base_uri": "https://localhost:8080/",
          "height": 202
        }
      },
      "source": [
        "# Note that I cleaned the Stanford dataset to remove LATIN1 encoding to make it easier for Python CSV reader\n",
        "# You can do that yourself with:\n",
        "# iconv -f LATIN1 -t UTF8 training.1600000.processed.noemoticon.csv -o training_cleaned.csv\n",
        "# I then hosted it on my site to make it easier to use in this notebook\n",
        "\n",
        "!wget --no-check-certificate \\\n",
        "    https://storage.googleapis.com/laurencemoroney-blog.appspot.com/training_cleaned.csv \\\n",
        "    -O /tmp/training_cleaned.csv\n",
        "\n",
        "num_sentences = 0\n",
        "\n",
        "with open(\"/tmp/training_cleaned.csv\") as csvfile:\n",
        "    reader = csv.reader(csvfile, delimiter=',')\n",
        "    for row in reader:\n",
        "        list_item=[]\n",
        "        list_item.append(row[5])\n",
        "        this_label=row[0]\n",
        "        if this_label=='0':\n",
        "            list_item.append(0)\n",
        "        else:\n",
        "            list_item.append(1)\n",
        "        num_sentences = num_sentences + 1\n",
        "        corpus.append(list_item)\n"
      ],
      "execution_count": 3,
      "outputs": [
        {
          "output_type": "stream",
          "text": [
            "--2020-10-21 10:04:32--  https://storage.googleapis.com/laurencemoroney-blog.appspot.com/training_cleaned.csv\n",
            "Resolving storage.googleapis.com (storage.googleapis.com)... 108.177.125.128, 74.125.204.128, 64.233.189.128, ...\n",
            "Connecting to storage.googleapis.com (storage.googleapis.com)|108.177.125.128|:443... connected.\n",
            "HTTP request sent, awaiting response... 200 OK\n",
            "Length: 238942690 (228M) [application/octet-stream]\n",
            "Saving to: ‘/tmp/training_cleaned.csv’\n",
            "\n",
            "/tmp/training_clean 100%[===================>] 227.87M  98.9MB/s    in 2.3s    \n",
            "\n",
            "2020-10-21 10:04:34 (98.9 MB/s) - ‘/tmp/training_cleaned.csv’ saved [238942690/238942690]\n",
            "\n"
          ],
          "name": "stdout"
        }
      ]
    },
    {
      "cell_type": "code",
      "metadata": {
        "id": "3kxblBUjEUX-",
        "outputId": "263ef96b-36d6-4a58-ded9-44ffbb53c97a",
        "colab": {
          "base_uri": "https://localhost:8080/",
          "height": 67
        }
      },
      "source": [
        "print(num_sentences)\n",
        "print(len(corpus))\n",
        "print(corpus[1])\n",
        "\n",
        "# Expected Output:\n",
        "# 1600000\n",
        "# 1600000\n",
        "# [\"is upset that he can't update his Facebook by texting it... and might cry as a result  School today also. Blah!\", 0]"
      ],
      "execution_count": 4,
      "outputs": [
        {
          "output_type": "stream",
          "text": [
            "1600000\n",
            "1600000\n",
            "[\"is upset that he can't update his Facebook by texting it... and might cry as a result  School today also. Blah!\", 0]\n"
          ],
          "name": "stdout"
        }
      ]
    },
    {
      "cell_type": "code",
      "metadata": {
        "id": "ohOGz24lsNAD"
      },
      "source": [
        "sentences=[]\n",
        "labels=[]\n",
        "random.shuffle(corpus)\n",
        "for x in range(training_size):\n",
        "    sentences.append(corpus[x][0])\n",
        "    labels.append(corpus[x][1])\n",
        "\n",
        "\n",
        "tokenizer = Tokenizer()\n",
        "tokenizer.fit_on_texts(sentences)\n",
        "\n",
        "word_index = tokenizer.word_index\n",
        "vocab_size=len(word_index)\n",
        "\n",
        "sequences = tokenizer.texts_to_sequences(sentences)\n",
        "padded = pad_sequences(sequences, maxlen=max_length, padding=padding_type, truncating=trunc_type)\n",
        "\n",
        "split = int(test_portion * training_size)\n",
        "\n",
        "test_sequences = padded[0:split]\n",
        "training_sequences = padded[split:training_size]\n",
        "test_labels = labels[0:split]\n",
        "training_labels = labels[split:training_size]"
      ],
      "execution_count": 5,
      "outputs": []
    },
    {
      "cell_type": "code",
      "metadata": {
        "id": "gIrtRem1En3N",
        "outputId": "6170d5e9-98b2-407d-eadb-38ec8c4c120c",
        "colab": {
          "base_uri": "https://localhost:8080/",
          "height": 50
        }
      },
      "source": [
        "print(vocab_size)\n",
        "print(word_index['i'])\n",
        "# Expected Output\n",
        "# 138858\n",
        "# 1"
      ],
      "execution_count": 6,
      "outputs": [
        {
          "output_type": "stream",
          "text": [
            "138169\n",
            "1\n"
          ],
          "name": "stdout"
        }
      ]
    },
    {
      "cell_type": "code",
      "metadata": {
        "id": "C1zdgJkusRh0",
        "outputId": "93614ea1-cdf3-4f3e-9395-515c3e7e411f",
        "colab": {
          "base_uri": "https://localhost:8080/",
          "height": 202
        }
      },
      "source": [
        "# Note this is the 100 dimension version of GloVe from Stanford\n",
        "# I unzipped and hosted it on my site to make this notebook easier\n",
        "!wget --no-check-certificate \\\n",
        "    https://storage.googleapis.com/laurencemoroney-blog.appspot.com/glove.6B.100d.txt \\\n",
        "    -O /tmp/glove.6B.100d.txt\n",
        "embeddings_index = {};\n",
        "with open('/tmp/glove.6B.100d.txt') as f:\n",
        "    for line in f:\n",
        "        values = line.split();\n",
        "        word = values[0];\n",
        "        coefs = np.asarray(values[1:], dtype='float32');\n",
        "        embeddings_index[word] = coefs;\n",
        "\n",
        "embeddings_matrix = np.zeros((vocab_size+1, embedding_dim));\n",
        "for word, i in word_index.items():\n",
        "    embedding_vector = embeddings_index.get(word);\n",
        "    if embedding_vector is not None:\n",
        "        embeddings_matrix[i] = embedding_vector;"
      ],
      "execution_count": 7,
      "outputs": [
        {
          "output_type": "stream",
          "text": [
            "--2020-10-21 10:04:49--  https://storage.googleapis.com/laurencemoroney-blog.appspot.com/glove.6B.100d.txt\n",
            "Resolving storage.googleapis.com (storage.googleapis.com)... 64.233.188.128, 64.233.189.128, 74.125.204.128, ...\n",
            "Connecting to storage.googleapis.com (storage.googleapis.com)|64.233.188.128|:443... connected.\n",
            "HTTP request sent, awaiting response... 200 OK\n",
            "Length: 347116733 (331M) [text/plain]\n",
            "Saving to: ‘/tmp/glove.6B.100d.txt’\n",
            "\n",
            "/tmp/glove.6B.100d. 100%[===================>] 331.04M   109MB/s    in 3.0s    \n",
            "\n",
            "2020-10-21 10:04:52 (109 MB/s) - ‘/tmp/glove.6B.100d.txt’ saved [347116733/347116733]\n",
            "\n"
          ],
          "name": "stdout"
        }
      ]
    },
    {
      "cell_type": "code",
      "metadata": {
        "id": "71NLk_lpFLNt",
        "outputId": "bf3b4fef-cb41-45e6-c68b-5642585e726d",
        "colab": {
          "base_uri": "https://localhost:8080/",
          "height": 34
        }
      },
      "source": [
        "print(len(embeddings_matrix))\n",
        "# Expected Output\n",
        "# 138859"
      ],
      "execution_count": 8,
      "outputs": [
        {
          "output_type": "stream",
          "text": [
            "138170\n"
          ],
          "name": "stdout"
        }
      ]
    },
    {
      "cell_type": "code",
      "metadata": {
        "id": "iKKvbuEBOGFz",
        "outputId": "28de9db0-279e-4f34-c424-3285dbd5d21c",
        "colab": {
          "base_uri": "https://localhost:8080/",
          "height": 1000
        }
      },
      "source": [
        "model = tf.keras.Sequential([\n",
        "    tf.keras.layers.Embedding(vocab_size+1, embedding_dim, input_length=max_length, weights=[embeddings_matrix], trainable=False),\n",
        "    tf.keras.layers.Dropout(0.2),\n",
        "    tf.keras.layers.Conv1D(64, 5, activation='relu'),\n",
        "    tf.keras.layers.MaxPooling1D(pool_size=4),\n",
        "    tf.keras.layers.LSTM(64),\n",
        "    tf.keras.layers.Dense(1, activation='sigmoid')\n",
        "])\n",
        "model.compile(loss='binary_crossentropy',optimizer='adam',metrics=['accuracy'])\n",
        "model.summary()\n",
        "\n",
        "num_epochs = 50\n",
        "\n",
        "training_padded = np.array(training_sequences)\n",
        "training_labels = np.array(training_labels)\n",
        "testing_padded = np.array(test_sequences)\n",
        "testing_labels = np.array(test_labels)\n",
        "\n",
        "history = model.fit(training_padded, training_labels, epochs=num_epochs, validation_data=(testing_padded, testing_labels), verbose=2)\n",
        "\n",
        "print(\"Training Complete\")"
      ],
      "execution_count": 9,
      "outputs": [
        {
          "output_type": "stream",
          "text": [
            "Model: \"sequential\"\n",
            "_________________________________________________________________\n",
            "Layer (type)                 Output Shape              Param #   \n",
            "=================================================================\n",
            "embedding (Embedding)        (None, 16, 100)           13817000  \n",
            "_________________________________________________________________\n",
            "dropout (Dropout)            (None, 16, 100)           0         \n",
            "_________________________________________________________________\n",
            "conv1d (Conv1D)              (None, 12, 64)            32064     \n",
            "_________________________________________________________________\n",
            "max_pooling1d (MaxPooling1D) (None, 3, 64)             0         \n",
            "_________________________________________________________________\n",
            "lstm (LSTM)                  (None, 64)                33024     \n",
            "_________________________________________________________________\n",
            "dense (Dense)                (None, 1)                 65        \n",
            "=================================================================\n",
            "Total params: 13,882,153\n",
            "Trainable params: 65,153\n",
            "Non-trainable params: 13,817,000\n",
            "_________________________________________________________________\n",
            "Epoch 1/50\n",
            "4500/4500 - 21s - loss: 0.5686 - accuracy: 0.6970 - val_loss: 0.5263 - val_accuracy: 0.7357\n",
            "Epoch 2/50\n",
            "4500/4500 - 22s - loss: 0.5267 - accuracy: 0.7317 - val_loss: 0.5078 - val_accuracy: 0.7493\n",
            "Epoch 3/50\n",
            "4500/4500 - 20s - loss: 0.5107 - accuracy: 0.7437 - val_loss: 0.5129 - val_accuracy: 0.7429\n",
            "Epoch 4/50\n",
            "4500/4500 - 22s - loss: 0.4999 - accuracy: 0.7505 - val_loss: 0.4975 - val_accuracy: 0.7571\n",
            "Epoch 5/50\n",
            "4500/4500 - 21s - loss: 0.4902 - accuracy: 0.7564 - val_loss: 0.5055 - val_accuracy: 0.7474\n",
            "Epoch 6/50\n",
            "4500/4500 - 20s - loss: 0.4832 - accuracy: 0.7607 - val_loss: 0.4947 - val_accuracy: 0.7573\n",
            "Epoch 7/50\n",
            "4500/4500 - 20s - loss: 0.4784 - accuracy: 0.7643 - val_loss: 0.4978 - val_accuracy: 0.7569\n",
            "Epoch 8/50\n",
            "4500/4500 - 20s - loss: 0.4733 - accuracy: 0.7673 - val_loss: 0.4965 - val_accuracy: 0.7531\n",
            "Epoch 9/50\n",
            "4500/4500 - 20s - loss: 0.4682 - accuracy: 0.7723 - val_loss: 0.4994 - val_accuracy: 0.7570\n",
            "Epoch 10/50\n",
            "4500/4500 - 20s - loss: 0.4650 - accuracy: 0.7732 - val_loss: 0.4995 - val_accuracy: 0.7556\n",
            "Epoch 11/50\n",
            "4500/4500 - 20s - loss: 0.4618 - accuracy: 0.7752 - val_loss: 0.5015 - val_accuracy: 0.7538\n",
            "Epoch 12/50\n",
            "4500/4500 - 21s - loss: 0.4579 - accuracy: 0.7771 - val_loss: 0.5125 - val_accuracy: 0.7478\n",
            "Epoch 13/50\n",
            "4500/4500 - 20s - loss: 0.4556 - accuracy: 0.7779 - val_loss: 0.5057 - val_accuracy: 0.7536\n",
            "Epoch 14/50\n",
            "4500/4500 - 20s - loss: 0.4536 - accuracy: 0.7797 - val_loss: 0.5057 - val_accuracy: 0.7473\n",
            "Epoch 15/50\n",
            "4500/4500 - 21s - loss: 0.4519 - accuracy: 0.7811 - val_loss: 0.5027 - val_accuracy: 0.7545\n",
            "Epoch 16/50\n",
            "4500/4500 - 21s - loss: 0.4499 - accuracy: 0.7811 - val_loss: 0.5051 - val_accuracy: 0.7492\n",
            "Epoch 17/50\n",
            "4500/4500 - 21s - loss: 0.4469 - accuracy: 0.7846 - val_loss: 0.5091 - val_accuracy: 0.7512\n",
            "Epoch 18/50\n",
            "4500/4500 - 20s - loss: 0.4464 - accuracy: 0.7834 - val_loss: 0.5090 - val_accuracy: 0.7528\n",
            "Epoch 19/50\n",
            "4500/4500 - 21s - loss: 0.4437 - accuracy: 0.7863 - val_loss: 0.5091 - val_accuracy: 0.7528\n",
            "Epoch 20/50\n",
            "4500/4500 - 21s - loss: 0.4431 - accuracy: 0.7863 - val_loss: 0.5255 - val_accuracy: 0.7484\n",
            "Epoch 21/50\n",
            "4500/4500 - 20s - loss: 0.4434 - accuracy: 0.7854 - val_loss: 0.5149 - val_accuracy: 0.7534\n",
            "Epoch 22/50\n",
            "4500/4500 - 21s - loss: 0.4401 - accuracy: 0.7874 - val_loss: 0.5163 - val_accuracy: 0.7498\n",
            "Epoch 23/50\n",
            "4500/4500 - 21s - loss: 0.4411 - accuracy: 0.7885 - val_loss: 0.5083 - val_accuracy: 0.7486\n",
            "Epoch 24/50\n",
            "4500/4500 - 20s - loss: 0.4392 - accuracy: 0.7882 - val_loss: 0.5170 - val_accuracy: 0.7483\n",
            "Epoch 25/50\n",
            "4500/4500 - 20s - loss: 0.4401 - accuracy: 0.7878 - val_loss: 0.5105 - val_accuracy: 0.7514\n",
            "Epoch 26/50\n",
            "4500/4500 - 20s - loss: 0.4384 - accuracy: 0.7906 - val_loss: 0.5151 - val_accuracy: 0.7477\n",
            "Epoch 27/50\n",
            "4500/4500 - 21s - loss: 0.4373 - accuracy: 0.7898 - val_loss: 0.5172 - val_accuracy: 0.7482\n",
            "Epoch 28/50\n",
            "4500/4500 - 20s - loss: 0.4351 - accuracy: 0.7907 - val_loss: 0.5168 - val_accuracy: 0.7488\n",
            "Epoch 29/50\n",
            "4500/4500 - 20s - loss: 0.4358 - accuracy: 0.7900 - val_loss: 0.5190 - val_accuracy: 0.7507\n",
            "Epoch 30/50\n",
            "4500/4500 - 21s - loss: 0.4348 - accuracy: 0.7916 - val_loss: 0.5205 - val_accuracy: 0.7479\n",
            "Epoch 31/50\n",
            "4500/4500 - 21s - loss: 0.4344 - accuracy: 0.7922 - val_loss: 0.5123 - val_accuracy: 0.7511\n",
            "Epoch 32/50\n",
            "4500/4500 - 22s - loss: 0.4346 - accuracy: 0.7914 - val_loss: 0.5152 - val_accuracy: 0.7529\n",
            "Epoch 33/50\n",
            "4500/4500 - 20s - loss: 0.4332 - accuracy: 0.7924 - val_loss: 0.5158 - val_accuracy: 0.7524\n",
            "Epoch 34/50\n",
            "4500/4500 - 22s - loss: 0.4327 - accuracy: 0.7930 - val_loss: 0.5226 - val_accuracy: 0.7499\n",
            "Epoch 35/50\n",
            "4500/4500 - 20s - loss: 0.4320 - accuracy: 0.7928 - val_loss: 0.5171 - val_accuracy: 0.7508\n",
            "Epoch 36/50\n",
            "4500/4500 - 20s - loss: 0.4319 - accuracy: 0.7934 - val_loss: 0.5177 - val_accuracy: 0.7478\n",
            "Epoch 37/50\n",
            "4500/4500 - 21s - loss: 0.4327 - accuracy: 0.7926 - val_loss: 0.5172 - val_accuracy: 0.7486\n",
            "Epoch 38/50\n",
            "4500/4500 - 20s - loss: 0.4317 - accuracy: 0.7939 - val_loss: 0.5185 - val_accuracy: 0.7490\n",
            "Epoch 39/50\n",
            "4500/4500 - 21s - loss: 0.4305 - accuracy: 0.7949 - val_loss: 0.5156 - val_accuracy: 0.7465\n",
            "Epoch 40/50\n",
            "4500/4500 - 20s - loss: 0.4310 - accuracy: 0.7943 - val_loss: 0.5203 - val_accuracy: 0.7476\n",
            "Epoch 41/50\n",
            "4500/4500 - 20s - loss: 0.4302 - accuracy: 0.7949 - val_loss: 0.5198 - val_accuracy: 0.7466\n",
            "Epoch 42/50\n",
            "4500/4500 - 20s - loss: 0.4305 - accuracy: 0.7947 - val_loss: 0.5184 - val_accuracy: 0.7495\n",
            "Epoch 43/50\n",
            "4500/4500 - 20s - loss: 0.4297 - accuracy: 0.7946 - val_loss: 0.5208 - val_accuracy: 0.7477\n",
            "Epoch 44/50\n",
            "4500/4500 - 20s - loss: 0.4296 - accuracy: 0.7945 - val_loss: 0.5151 - val_accuracy: 0.7507\n",
            "Epoch 45/50\n",
            "4500/4500 - 20s - loss: 0.4293 - accuracy: 0.7963 - val_loss: 0.5213 - val_accuracy: 0.7468\n",
            "Epoch 46/50\n",
            "4500/4500 - 21s - loss: 0.4292 - accuracy: 0.7952 - val_loss: 0.5253 - val_accuracy: 0.7499\n",
            "Epoch 47/50\n",
            "4500/4500 - 21s - loss: 0.4296 - accuracy: 0.7951 - val_loss: 0.5142 - val_accuracy: 0.7486\n",
            "Epoch 48/50\n",
            "4500/4500 - 20s - loss: 0.4276 - accuracy: 0.7953 - val_loss: 0.5205 - val_accuracy: 0.7464\n",
            "Epoch 49/50\n",
            "4500/4500 - 21s - loss: 0.4289 - accuracy: 0.7953 - val_loss: 0.5188 - val_accuracy: 0.7474\n",
            "Epoch 50/50\n",
            "4500/4500 - 21s - loss: 0.4288 - accuracy: 0.7957 - val_loss: 0.5236 - val_accuracy: 0.7490\n",
            "Training Complete\n"
          ],
          "name": "stdout"
        }
      ]
    },
    {
      "cell_type": "code",
      "metadata": {
        "id": "qxju4ItJKO8F",
        "outputId": "58062737-8fe0-4990-9c7e-1be759ae9462",
        "colab": {
          "base_uri": "https://localhost:8080/",
          "height": 606
        }
      },
      "source": [
        "import matplotlib.image  as mpimg\n",
        "import matplotlib.pyplot as plt\n",
        "\n",
        "#-----------------------------------------------------------\n",
        "# Retrieve a list of list results on training and test data\n",
        "# sets for each training epoch\n",
        "#-----------------------------------------------------------\n",
        "acc=history.history['accuracy']\n",
        "val_acc=history.history['val_accuracy']\n",
        "loss=history.history['loss']\n",
        "val_loss=history.history['val_loss']\n",
        "\n",
        "epochs=range(len(acc)) # Get number of epochs\n",
        "\n",
        "#------------------------------------------------\n",
        "# Plot training and validation accuracy per epoch\n",
        "#------------------------------------------------\n",
        "plt.plot(epochs, acc, 'r')\n",
        "plt.plot(epochs, val_acc, 'b')\n",
        "plt.title('Training and validation accuracy')\n",
        "plt.xlabel(\"Epochs\")\n",
        "plt.ylabel(\"Accuracy\")\n",
        "plt.legend([\"Accuracy\", \"Validation Accuracy\"])\n",
        "\n",
        "plt.figure()\n",
        "\n",
        "#------------------------------------------------\n",
        "# Plot training and validation loss per epoch\n",
        "#------------------------------------------------\n",
        "plt.plot(epochs, loss, 'r')\n",
        "plt.plot(epochs, val_loss, 'b')\n",
        "plt.title('Training and validation loss')\n",
        "plt.xlabel(\"Epochs\")\n",
        "plt.ylabel(\"Loss\")\n",
        "plt.legend([\"Loss\", \"Validation Loss\"])\n",
        "\n",
        "plt.figure()\n",
        "\n",
        "\n",
        "# Expected Output\n",
        "# A chart where the validation loss does not increase sharply!"
      ],
      "execution_count": 10,
      "outputs": [
        {
          "output_type": "execute_result",
          "data": {
            "text/plain": [
              "<Figure size 432x288 with 0 Axes>"
            ]
          },
          "metadata": {
            "tags": []
          },
          "execution_count": 10
        },
        {
          "output_type": "display_data",
          "data": {
            "image/png": "[encoded data removed]",
            "text/plain": [
              "<Figure size 432x288 with 1 Axes>"
            ]
          },
          "metadata": {
            "tags": [],
            "needs_background": "light"
          }
        },
        {
          "output_type": "display_data",
          "data": {
            "image/png": "[encoded data removed]",
            "text/plain": [
              "<Figure size 432x288 with 1 Axes>"
            ]
          },
          "metadata": {
            "tags": [],
            "needs_background": "light"
          }
        },
        {
          "output_type": "display_data",
          "data": {
            "text/plain": [
              "<Figure size 432x288 with 0 Axes>"
            ]
          },
          "metadata": {
            "tags": []
          }
        }
      ]
    }
  ]
}